{
 "cells": [
  {
   "cell_type": "code",
   "execution_count": null,
   "id": "51453c39",
   "metadata": {},
   "outputs": [],
   "source": [
    "import kaggle as kg\n",
    "import pandas as pd\n",
    "import os"
   ]
  },
  {
   "cell_type": "code",
   "execution_count": 5,
   "id": "beea3512",
   "metadata": {},
   "outputs": [],
   "source": [
    "os.environ[\"USERNAME\"] = \"kapilsharma2026\"\n",
    "os.environ[\"key\"] = \"733946adcfdbcaa3b4c33004c1ce7ac1\""
   ]
  },
  {
   "cell_type": "code",
   "execution_count": 8,
   "id": "3721b7ca",
   "metadata": {},
   "outputs": [],
   "source": [
    "kg.api.authenticate()"
   ]
  },
  {
   "cell_type": "code",
   "execution_count": 9,
   "id": "0d05fbe4",
   "metadata": {},
   "outputs": [
    {
     "name": "stdout",
     "output_type": "stream",
     "text": [
      "Dataset URL: https://www.kaggle.com/datasets/uciml/aps-failure-at-scania-trucks-data-set\n"
     ]
    }
   ],
   "source": [
    "kg.api.dataset_download_files(dataset=\"uciml/aps-failure-at-scania-trucks-data-set\",path=\"dataset\",unzip=True)"
   ]
  },
  {
   "cell_type": "code",
   "execution_count": null,
   "id": "209216d9",
   "metadata": {},
   "outputs": [],
   "source": [
    "data = pd.read_csv(\"dataset/aps_failure_training_set.csv\")"
   ]
  }
 ],
 "metadata": {
  "kernelspec": {
   "display_name": ".venv",
   "language": "python",
   "name": "python3"
  },
  "language_info": {
   "codemirror_mode": {
    "name": "ipython",
    "version": 3
   },
   "file_extension": ".py",
   "mimetype": "text/x-python",
   "name": "python",
   "nbconvert_exporter": "python",
   "pygments_lexer": "ipython3",
   "version": "3.10.12"
  }
 },
 "nbformat": 4,
 "nbformat_minor": 5
}
